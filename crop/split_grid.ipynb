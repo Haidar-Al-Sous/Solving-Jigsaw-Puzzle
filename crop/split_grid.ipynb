{
 "cells": [
  {
   "cell_type": "code",
   "execution_count": 1,
   "metadata": {},
   "outputs": [],
   "source": [
    "import cv2 as cv\n",
    "\n",
    "import random\n",
    "\n",
    "import numpy as np"
   ]
  },
  {
   "cell_type": "code",
   "execution_count": 2,
   "metadata": {},
   "outputs": [],
   "source": [
    "image = cv.imread('nutella.jpg')"
   ]
  },
  {
   "cell_type": "code",
   "execution_count": 3,
   "metadata": {},
   "outputs": [],
   "source": [
    "height, width, channels = image.shape"
   ]
  },
  {
   "cell_type": "code",
   "execution_count": 4,
   "metadata": {},
   "outputs": [],
   "source": [
    "num_columns = 10\n",
    "num_rows = 5"
   ]
  },
  {
   "cell_type": "code",
   "execution_count": 5,
   "metadata": {},
   "outputs": [],
   "source": [
    "def split_image_grid(num_columns, num_rows, height ,width ,image):\n",
    "\n",
    "    images = []\n",
    "\n",
    "    for i in range(num_columns):\n",
    "        for j in range(num_rows):\n",
    "\n",
    "            start_columns = i * width // num_columns\n",
    "            end_columns = (i + 1) * width // num_columns\n",
    "            start_rows = j * height // num_rows\n",
    "            end_rows = (j + 1) * height // num_rows\n",
    "\n",
    "            image_part = image[start_rows:end_rows, start_columns:end_columns]\n",
    "\n",
    "            images.append(image_part)\n",
    "\n",
    "\n",
    "    return images         "
   ]
  },
  {
   "cell_type": "code",
   "execution_count": 6,
   "metadata": {},
   "outputs": [],
   "source": [
    "def merge_image_grid(num_columns, num_rows, height ,width ,images):\n",
    "\n",
    "\n",
    "    image_new = np.zeros((height , width , 3), dtype=np.uint8)   \n",
    "\n",
    "    for i in range(num_columns):\n",
    "        for j in range(num_rows):\n",
    "\n",
    "            start_columns = i * width // num_columns\n",
    "            end_columns = (i + 1) * width // num_columns\n",
    "            start_rows = j * height // num_rows\n",
    "            end_rows = (j + 1) * height // num_rows\n",
    "\n",
    "            random_index = np.random.randint(0, len(images))\n",
    "            while (images[random_index].shape != (end_rows - start_rows ,end_columns - start_columns, 3)):\n",
    "                random_index = np.random.randint(0, len(images))\n",
    "\n",
    "            random_image_part = images.pop(random_index)\n",
    "            \n",
    "            image_new[start_rows:end_rows, start_columns:end_columns] = random_image_part\n",
    "\n",
    "    return image_new        \n"
   ]
  },
  {
   "cell_type": "code",
   "execution_count": 7,
   "metadata": {},
   "outputs": [],
   "source": [
    "images = split_image_grid(num_columns, num_rows, height ,width ,image)"
   ]
  },
  {
   "cell_type": "code",
   "execution_count": 8,
   "metadata": {},
   "outputs": [],
   "source": [
    "image_new = merge_image_grid(num_columns, num_rows, height ,width ,images)"
   ]
  },
  {
   "cell_type": "code",
   "execution_count": 9,
   "metadata": {},
   "outputs": [],
   "source": [
    "cv.imshow('image_new', image_new)\n",
    "cv.imshow('image', image)\n",
    "\n",
    "cv.waitKey(0)\n",
    "cv.destroyAllWindows()\n"
   ]
  }
 ],
 "metadata": {
  "kernelspec": {
   "display_name": "base",
   "language": "python",
   "name": "python3"
  },
  "language_info": {
   "codemirror_mode": {
    "name": "ipython",
    "version": 3
   },
   "file_extension": ".py",
   "mimetype": "text/x-python",
   "name": "python",
   "nbconvert_exporter": "python",
   "pygments_lexer": "ipython3",
   "version": "3.11.5"
  }
 },
 "nbformat": 4,
 "nbformat_minor": 2
}
